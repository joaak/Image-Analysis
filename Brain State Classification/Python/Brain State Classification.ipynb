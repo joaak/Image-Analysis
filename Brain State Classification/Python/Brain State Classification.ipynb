{
 "cells": [
  {
   "cell_type": "code",
   "execution_count": 1,
   "metadata": {},
   "outputs": [],
   "source": [
    "import numpy as np\n",
    "import pandas as pd\n",
    "from scipy import io\n",
    "from sklearn.decomposition import PCA\n",
    "from sklearn.svm import SVC\n",
    "from sklearn.metrics import accuracy_score\n",
    "from sklearn.model_selection import train_test_split\n",
    "from sklearn.ensemble import RandomForestClassifier\n",
    "from sklearn.ensemble import GradientBoostingClassifier\n",
    "from sklearn.ensemble import AdaBoostClassifier\n",
    "from sklearn.model_selection import GridSearchCV\n",
    "import warnings\n",
    "warnings.filterwarnings('ignore')"
   ]
  },
  {
   "cell_type": "markdown",
   "metadata": {},
   "source": [
    "# SES-TEST DATA"
   ]
  },
  {
   "cell_type": "code",
   "execution_count": 2,
   "metadata": {},
   "outputs": [
    {
     "name": "stdout",
     "output_type": "stream",
     "text": [
      "Training Dataset Shape (184, 15183)\n",
      "Label Shape (184, 1)\n"
     ]
    }
   ],
   "source": [
    "all_train_data = io.loadmat('sub-01/ses-test/func/fMRImask.mat')\n",
    "labels = io.loadmat('label.mat')['label']\n",
    "train_data = all_train_data['fMRIdata_1D_ROI']\n",
    "print(\"Training Dataset Shape\", train_data.shape)\n",
    "print(\"Label Shape\", labels.shape)"
   ]
  },
  {
   "cell_type": "code",
   "execution_count": 3,
   "metadata": {},
   "outputs": [],
   "source": [
    "X = pd.DataFrame(train_data)\n",
    "X_train, X_test, y_train, y_test = train_test_split(X, labels, test_size=0.5)"
   ]
  },
  {
   "cell_type": "markdown",
   "metadata": {},
   "source": [
    "### Model Training without PCA"
   ]
  },
  {
   "cell_type": "code",
   "execution_count": 9,
   "metadata": {},
   "outputs": [],
   "source": [
    "param_grid = {'C': np.arange(1, 100),\n",
    "              'gamma': np.arange(0, 5, 0.1)}"
   ]
  },
  {
   "cell_type": "code",
   "execution_count": null,
   "metadata": {},
   "outputs": [],
   "source": [
    "grid = GridSearchCV(SVC(), param_grid=param_grid, cv=10)\n",
    "grid.fit(X_train, y_train)\n",
    "print(\"Best score: \", grid.best_score_)\n",
    "print(\"Best params: \", grid.best_params_)"
   ]
  },
  {
   "cell_type": "code",
   "execution_count": null,
   "metadata": {},
   "outputs": [],
   "source": [
    "svc_1 = SVC()\n",
    "svc_1.fit(X_train, y_train)\n",
    "y_pred_svc = svc_1.predict(X_test)\n",
    "\n",
    "print(\"The accuracy of the model Support Vector Machine is: \", accuracy_score(y_test, y_pred_svc))"
   ]
  },
  {
   "cell_type": "code",
   "execution_count": null,
   "metadata": {},
   "outputs": [],
   "source": [
    "gbc_1 = GradientBoostingClassifier()\n",
    "\n",
    "gbc_1.fit(X_train, y_train)\n",
    "y_pred_gbc = gbc_1.predict(X_test)\n",
    "\n",
    "print(\"The accuracy of the model Gradient Boosting Classifer is: \", accuracy_score(y_test, y_pred_gbc))"
   ]
  },
  {
   "cell_type": "code",
   "execution_count": null,
   "metadata": {},
   "outputs": [],
   "source": [
    "gbc_b = GradientBoostingClassifier(n_estimators=500)\n",
    "\n",
    "gbc_b.fit(X_train, y_train)\n",
    "y_pred_gbc_b = gbc_b.predict(X_test)\n",
    "\n",
    "print(\"The accuracy of the model Gradient Boosting Classifer with tuned parameters is: \", accuracy_score(y_test, y_pred_gbc_b))"
   ]
  },
  {
   "cell_type": "markdown",
   "metadata": {},
   "source": [
    "## Model Training with PCA"
   ]
  },
  {
   "cell_type": "code",
   "execution_count": null,
   "metadata": {},
   "outputs": [],
   "source": [
    "pca = PCA()\n",
    "pca.fit(X_train, y_train)\n",
    "pca_train = pca.transform(X_train)\n",
    "pca_test = pca.transform(X_test)"
   ]
  },
  {
   "cell_type": "code",
   "execution_count": null,
   "metadata": {},
   "outputs": [],
   "source": [
    "svc_2 = SVC()\n",
    "svc_2.fit(pca_train, y_train)\n",
    "y_pred_svc_pca = svc_2.predict(pca_test)\n",
    "\n",
    "print(\"The accuracy of the model Support Vector Machine with PCA is: \", accuracy_score(y_test, y_pred_svc_pca))"
   ]
  },
  {
   "cell_type": "code",
   "execution_count": null,
   "metadata": {},
   "outputs": [],
   "source": [
    "gbc_2 = GradientBoostingClassifier()\n",
    "\n",
    "gbc_2.fit(pca_train, y_train)\n",
    "y_pred_gbc_pca = gbc_2.predict(pca_test)\n",
    "\n",
    "print(\"The accuracy of the model Gradient Boosting Classifer with PCA is: \", accuracy_score(y_test, y_pred_gbc_pca))"
   ]
  },
  {
   "cell_type": "code",
   "execution_count": null,
   "metadata": {},
   "outputs": [],
   "source": [
    "gbc_b_2 = GradientBoostingClassifier(n_estimators=500)\n",
    "\n",
    "gbc_b_2.fit(X_train, y_train)\n",
    "y_pred_gbc_pca_b_2 = gbc_b_2.predict(X_test)\n",
    "\n",
    "print(\"The accuracy of the model Gradient Boosting Classifer with PCA and tuned parameters is: \", accuracy_score(y_test, y_pred_gbc_pca_b_2))"
   ]
  },
  {
   "cell_type": "markdown",
   "metadata": {},
   "source": [
    "# SES-RETEST DATA"
   ]
  },
  {
   "cell_type": "code",
   "execution_count": null,
   "metadata": {},
   "outputs": [],
   "source": [
    "all_train_data = io.loadmat('sub-01/ses-retest/func/fMRImask.mat')\n",
    "labels = io.loadmat('label.mat')['label']\n",
    "train_data = all_train_data['fMRIdata_1D_ROI']\n",
    "print(\"Training Dataset Shape\", train_data.shape)\n",
    "print(\"Label Shape\", labels.shape)"
   ]
  },
  {
   "cell_type": "code",
   "execution_count": null,
   "metadata": {},
   "outputs": [],
   "source": [
    "X = pd.DataFrame(train_data)\n",
    "X_train, X_test, y_train, y_test = train_test_split(X, labels, test_size=0.5)"
   ]
  },
  {
   "cell_type": "markdown",
   "metadata": {},
   "source": [
    "### Model Training without PCA"
   ]
  },
  {
   "cell_type": "code",
   "execution_count": null,
   "metadata": {},
   "outputs": [],
   "source": [
    "svc_retest_1 = SVC()\n",
    "svc_retest_1.fit(X_train, y_train)\n",
    "y_pred_svc_retest = svc_retest_1.predict(X_test)\n",
    "\n",
    "print(\"The accuracy of the model Support Vector Machine is: \", accuracy_score(y_test, y_pred_svc_retest))"
   ]
  },
  {
   "cell_type": "code",
   "execution_count": null,
   "metadata": {},
   "outputs": [],
   "source": [
    "gbc_retest_1 = GradientBoostingClassifier()\n",
    "\n",
    "gbc_retest_1.fit(X_train, y_train)\n",
    "y_pred_gbc_retest = gbc_retest_1.predict(X_test)\n",
    "\n",
    "print(\"The accuracy of the model Gradient Boosting Classifer is: \", accuracy_score(y_test, y_pred_gbc_retest))"
   ]
  },
  {
   "cell_type": "code",
   "execution_count": null,
   "metadata": {},
   "outputs": [],
   "source": [
    "gbc_retest_b = GradientBoostingClassifier(n_estimators=500)\n",
    "\n",
    "gbc_retest_b.fit(X_train, y_train)\n",
    "y_pred_gbc_retest_b = gbc_retest_b.predict(X_test)\n",
    "\n",
    "print(\"The accuracy of the model Gradient Boosting Classifer is: \", accuracy_score(y_test, y_pred_gbc_retest_b))"
   ]
  },
  {
   "cell_type": "markdown",
   "metadata": {},
   "source": [
    "### Model Training with PCA"
   ]
  },
  {
   "cell_type": "code",
   "execution_count": null,
   "metadata": {},
   "outputs": [],
   "source": [
    "pca = PCA()\n",
    "pca.fit(X_train, y_train)\n",
    "pca_train = pca.transform(X_train)\n",
    "pca_test = pca.transform(X_test)"
   ]
  },
  {
   "cell_type": "code",
   "execution_count": null,
   "metadata": {},
   "outputs": [],
   "source": [
    "svc_2_retest = SVC()\n",
    "svc_2_retest.fit(pca_train, y_train)\n",
    "y_pred_svc_pca_retest = svc_2_retest.predict(pca_test)\n",
    "\n",
    "print(\"The accuracy of the model Support Vector Machine with PCA is: \", accuracy_score(y_test, y_pred_svc_pca_retest))"
   ]
  },
  {
   "cell_type": "code",
   "execution_count": null,
   "metadata": {},
   "outputs": [],
   "source": [
    "gbc_2_retest = GradientBoostingClassifier()\n",
    "\n",
    "gbc_2_retest.fit(pca_train, y_train)\n",
    "y_pred_gbc_pca_retest = gbc_2_retest.predict(pca_test)\n",
    "\n",
    "print(\"The accuracy of the model Gradient Boosting Classifer with PCA is: \", accuracy_score(y_test, y_pred_gbc_pca_retest))"
   ]
  },
  {
   "cell_type": "code",
   "execution_count": null,
   "metadata": {},
   "outputs": [],
   "source": [
    "gbc_b_retest = GradientBoostingClassifier(n_estimators=500)\n",
    "\n",
    "gbc_b_retest.fit(X_train, y_train)\n",
    "y_pred_gbc_b_retest = gbc_b_retest.predict(X_test)\n",
    "\n",
    "print(\"The accuracy of the model Gradient Boosting Classifer with tuned parameters is: \", accuracy_score(y_test, y_pred_gbc_b_retest))"
   ]
  }
 ],
 "metadata": {
  "kernelspec": {
   "display_name": "Python 3",
   "language": "python",
   "name": "python3"
  },
  "language_info": {
   "codemirror_mode": {
    "name": "ipython",
    "version": 3
   },
   "file_extension": ".py",
   "mimetype": "text/x-python",
   "name": "python",
   "nbconvert_exporter": "python",
   "pygments_lexer": "ipython3",
   "version": "3.6.3"
  }
 },
 "nbformat": 4,
 "nbformat_minor": 2
}
